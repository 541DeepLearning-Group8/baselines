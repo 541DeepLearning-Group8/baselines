{
  "cells": [
    {
      "cell_type": "markdown",
      "metadata": {
        "id": "view-in-github",
        "colab_type": "text"
      },
      "source": [
        "<a href=\"https://colab.research.google.com/github/541DeepLearning-Group8/baselines/blob/main/ordinal_BERT.ipynb\" target=\"_parent\"><img src=\"https://colab.research.google.com/assets/colab-badge.svg\" alt=\"Open In Colab\"/></a>"
      ]
    },
    {
      "cell_type": "code",
      "execution_count": null,
      "id": "972e4fad",
      "metadata": {
        "id": "972e4fad"
      },
      "outputs": [],
      "source": [
        "!pip install transformers scikit-learn -q"
      ]
    },
    {
      "cell_type": "code",
      "execution_count": null,
      "id": "951d3f96",
      "metadata": {
        "id": "951d3f96"
      },
      "outputs": [],
      "source": [
        "import torch\n",
        "import pandas as pd\n",
        "import numpy as np\n",
        "from torch.utils.data import Dataset, DataLoader\n",
        "from sklearn.metrics import classification_report\n",
        "from transformers import BertTokenizer, BertForSequenceClassification, get_scheduler\n",
        "from torch.optim import AdamW\n",
        "from tqdm import tqdm\n",
        "from google.colab import drive\n",
        "\n",
        "device = torch.device(\"cuda\" if torch.cuda.is_available() else \"cpu\")\n",
        "print(\"Using device:\", device)"
      ]
    },
    {
      "cell_type": "code",
      "execution_count": null,
      "id": "7ef77804",
      "metadata": {
        "id": "7ef77804"
      },
      "outputs": [],
      "source": [
        "drive.mount('/content/drive')\n",
        "train_df = pd.read_csv('/content/drive/MyDrive/541project/train.csv')\n",
        "val_df = pd.read_csv('/content/drive/MyDrive/541project/val.csv')\n",
        "test_df = pd.read_csv('/content/drive/MyDrive/541project/test.csv')\n",
        "\n",
        "train_df = train_df[['Clean Comments', 'Rating']].dropna()\n",
        "val_df = val_df[['Clean Comments', 'Rating']].dropna()\n",
        "test_df = test_df[['Clean Comments', 'Rating']].dropna()\n",
        "\n",
        "\n",
        "train_df['label'] = train_df['Rating'] - 1\n",
        "val_df['label'] = val_df['Rating'] - 1\n",
        "test_df['label'] = test_df['Rating'] - 1"
      ]
    },
    {
      "cell_type": "code",
      "execution_count": null,
      "id": "81d2635c",
      "metadata": {
        "id": "81d2635c"
      },
      "outputs": [],
      "source": [
        "class CommentDataset(Dataset):\n",
        "    def __init__(self, texts, labels, tokenizer, max_len=256):\n",
        "        self.encodings = tokenizer(texts, truncation=True, padding='max_length', max_length=max_len, return_tensors='pt')\n",
        "        self.labels = torch.tensor(labels, dtype=torch.long)\n",
        "    def __getitem__(self, idx):\n",
        "        item = {key: val[idx] for key, val in self.encodings.items()}\n",
        "        item['labels'] = self.labels[idx]\n",
        "        return item\n",
        "    def __len__(self):\n",
        "        return len(self.labels)\n",
        "\n",
        "MODEL_NAME = 'bert-base-uncased'\n",
        "tokenizer = BertTokenizer.from_pretrained(MODEL_NAME)\n",
        "\n",
        "train_dataset = CommentDataset(train_df['Clean Comments'].tolist(), train_df['label'].tolist(), tokenizer)\n",
        "val_dataset = CommentDataset(val_df['Clean Comments'].tolist(), val_df['label'].tolist(), tokenizer)\n",
        "test_dataset = CommentDataset(test_df['Clean Comments'].tolist(), test_df['label'].tolist(), tokenizer)\n",
        "\n",
        "train_loader = DataLoader(train_dataset, batch_size=16, shuffle=True)\n",
        "val_loader = DataLoader(val_dataset, batch_size=16)\n",
        "test_loader = DataLoader(test_dataset, batch_size=16)\n"
      ]
    },
    {
      "cell_type": "code",
      "execution_count": null,
      "id": "7345d83a",
      "metadata": {
        "id": "7345d83a"
      },
      "outputs": [],
      "source": [
        "model = BertForSequenceClassification.from_pretrained(MODEL_NAME, num_labels=5).to(device)\n",
        "optimizer = AdamW(model.parameters(), lr=2e-5)\n",
        "num_training_steps = len(train_loader) * 3\n",
        "lr_scheduler = get_scheduler(\"linear\", optimizer=optimizer, num_warmup_steps=0, num_training_steps=num_training_steps)\n"
      ]
    },
    {
      "cell_type": "code",
      "execution_count": null,
      "id": "665f8596",
      "metadata": {
        "id": "665f8596"
      },
      "outputs": [],
      "source": [
        "def train(model):\n",
        "    model.train()\n",
        "    total_loss = 0\n",
        "    for batch in tqdm(train_loader, desc=\"Training\"):\n",
        "        batch = {k: v.to(device) for k, v in batch.items()}\n",
        "        outputs = model(**batch)\n",
        "        loss = outputs.loss\n",
        "        loss.backward()\n",
        "        optimizer.step()\n",
        "        lr_scheduler.step()\n",
        "        optimizer.zero_grad()\n",
        "        total_loss += loss.item()\n",
        "    return total_loss / len(train_loader)"
      ]
    },
    {
      "cell_type": "code",
      "execution_count": null,
      "id": "5fd037b7",
      "metadata": {
        "id": "5fd037b7"
      },
      "outputs": [],
      "source": [
        "def evaluate(model, dataloader, name=\"Validation\"):\n",
        "    model.eval()\n",
        "    preds, labels = [], []\n",
        "    with torch.no_grad():\n",
        "        for batch in tqdm(dataloader, desc=f\"Evaluating {name}\"):\n",
        "            batch = {k: v.to(device) for k, v in batch.items()}\n",
        "            outputs = model(**batch)\n",
        "            logits = outputs.logits\n",
        "            preds += torch.argmax(logits, dim=-1).tolist()\n",
        "            labels += batch['labels'].tolist()\n",
        "    print(f\"{name} Classification Report:\")\n",
        "    print(classification_report(labels, preds, digits=4))"
      ]
    },
    {
      "cell_type": "code",
      "execution_count": null,
      "id": "4de30e2d",
      "metadata": {
        "id": "4de30e2d"
      },
      "outputs": [],
      "source": [
        "EPOCHS = 3\n",
        "for epoch in range(EPOCHS):\n",
        "    print(f\"Epoch {epoch+1}/{EPOCHS}\")\n",
        "    loss = train(model)\n",
        "    print(f\"Training Loss: {loss:.4f}\")\n",
        "    evaluate(model, val_loader)"
      ]
    },
    {
      "cell_type": "code",
      "execution_count": null,
      "id": "280359c4",
      "metadata": {
        "id": "280359c4"
      },
      "outputs": [],
      "source": [
        "evaluate(model, test_loader, name=\"Test\")"
      ]
    }
  ],
  "metadata": {
    "colab": {
      "provenance": [],
      "machine_shape": "hm",
      "gpuType": "A100",
      "include_colab_link": true
    },
    "accelerator": "GPU",
    "language_info": {
      "name": "python"
    },
    "kernelspec": {
      "name": "python3",
      "display_name": "Python 3"
    }
  },
  "nbformat": 4,
  "nbformat_minor": 5
}